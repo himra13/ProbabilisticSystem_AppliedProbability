{
 "cells": [
  {
   "cell_type": "code",
   "execution_count": 15,
   "metadata": {},
   "outputs": [],
   "source": [
    "import itertools as i\n",
    "import pandas as pd"
   ]
  },
  {
   "cell_type": "markdown",
   "metadata": {},
   "source": [
    "# problem 20: Boris Chess player"
   ]
  },
  {
   "cell_type": "code",
   "execution_count": 2,
   "metadata": {},
   "outputs": [],
   "source": [
    "def prob_winning_strategy3(p_w, p_d):\n",
    "    return p_w*p_d + p_w**2*(1-p_d) + p_w**2*(1-p_w)"
   ]
  },
  {
   "cell_type": "code",
   "execution_count": 32,
   "metadata": {},
   "outputs": [
    {
     "data": {
      "text/html": [
       "<div>\n",
       "<style scoped>\n",
       "    .dataframe tbody tr th:only-of-type {\n",
       "        vertical-align: middle;\n",
       "    }\n",
       "\n",
       "    .dataframe tbody tr th {\n",
       "        vertical-align: top;\n",
       "    }\n",
       "\n",
       "    .dataframe thead th {\n",
       "        text-align: right;\n",
       "    }\n",
       "</style>\n",
       "<table border=\"1\" class=\"dataframe\">\n",
       "  <thead>\n",
       "    <tr style=\"text-align: right;\">\n",
       "      <th></th>\n",
       "      <th>prob_win</th>\n",
       "      <th>prob_draw</th>\n",
       "      <th>total_prob</th>\n",
       "    </tr>\n",
       "  </thead>\n",
       "  <tbody>\n",
       "    <tr>\n",
       "      <th>0</th>\n",
       "      <td>0.01</td>\n",
       "      <td>0.01</td>\n",
       "      <td>0.000298</td>\n",
       "    </tr>\n",
       "    <tr>\n",
       "      <th>1</th>\n",
       "      <td>0.01</td>\n",
       "      <td>0.02</td>\n",
       "      <td>0.000397</td>\n",
       "    </tr>\n",
       "    <tr>\n",
       "      <th>2</th>\n",
       "      <td>0.01</td>\n",
       "      <td>0.03</td>\n",
       "      <td>0.000496</td>\n",
       "    </tr>\n",
       "    <tr>\n",
       "      <th>3</th>\n",
       "      <td>0.01</td>\n",
       "      <td>0.04</td>\n",
       "      <td>0.000595</td>\n",
       "    </tr>\n",
       "    <tr>\n",
       "      <th>4</th>\n",
       "      <td>0.01</td>\n",
       "      <td>0.05</td>\n",
       "      <td>0.000694</td>\n",
       "    </tr>\n",
       "    <tr>\n",
       "      <th>...</th>\n",
       "      <td>...</td>\n",
       "      <td>...</td>\n",
       "      <td>...</td>\n",
       "    </tr>\n",
       "    <tr>\n",
       "      <th>9796</th>\n",
       "      <td>0.99</td>\n",
       "      <td>0.95</td>\n",
       "      <td>0.999306</td>\n",
       "    </tr>\n",
       "    <tr>\n",
       "      <th>9797</th>\n",
       "      <td>0.99</td>\n",
       "      <td>0.96</td>\n",
       "      <td>0.999405</td>\n",
       "    </tr>\n",
       "    <tr>\n",
       "      <th>9798</th>\n",
       "      <td>0.99</td>\n",
       "      <td>0.97</td>\n",
       "      <td>0.999504</td>\n",
       "    </tr>\n",
       "    <tr>\n",
       "      <th>9799</th>\n",
       "      <td>0.99</td>\n",
       "      <td>0.98</td>\n",
       "      <td>0.999603</td>\n",
       "    </tr>\n",
       "    <tr>\n",
       "      <th>9800</th>\n",
       "      <td>0.99</td>\n",
       "      <td>0.99</td>\n",
       "      <td>0.999702</td>\n",
       "    </tr>\n",
       "  </tbody>\n",
       "</table>\n",
       "<p>9801 rows × 3 columns</p>\n",
       "</div>"
      ],
      "text/plain": [
       "      prob_win  prob_draw  total_prob\n",
       "0         0.01       0.01    0.000298\n",
       "1         0.01       0.02    0.000397\n",
       "2         0.01       0.03    0.000496\n",
       "3         0.01       0.04    0.000595\n",
       "4         0.01       0.05    0.000694\n",
       "...        ...        ...         ...\n",
       "9796      0.99       0.95    0.999306\n",
       "9797      0.99       0.96    0.999405\n",
       "9798      0.99       0.97    0.999504\n",
       "9799      0.99       0.98    0.999603\n",
       "9800      0.99       0.99    0.999702\n",
       "\n",
       "[9801 rows x 3 columns]"
      ]
     },
     "execution_count": 32,
     "metadata": {},
     "output_type": "execute_result"
    }
   ],
   "source": [
    "prob_list = [i/100 for i in range(1, 100)]\n",
    "prob_df = (\n",
    "    pd.DataFrame(i.product(prob_list, prob_list), columns = ['prob_win', 'prob_draw'])\n",
    "    .pipe(lambda x: x.assign(total_prob = prob_winning_strategy3(x.prob_win, x.prob_draw)\n",
    "                            # , test_multiple_assignment = x.prob_win/x.prob_draw\n",
    "                            ))\n",
    "    )\n",
    "prob_df\n"
   ]
  },
  {
   "cell_type": "code",
   "execution_count": 41,
   "metadata": {},
   "outputs": [
    {
     "data": {
      "text/plain": [
       "<matplotlib.axes._subplots.AxesSubplot at 0x28babd8d048>"
      ]
     },
     "execution_count": 41,
     "metadata": {},
     "output_type": "execute_result"
    },
    {
     "data": {
      "image/png": "[encoded data removed]",
      "text/plain": [
       "<Figure size 432x288 with 1 Axes>"
      ]
     },
     "metadata": {
      "needs_background": "light"
     },
     "output_type": "display_data"
    }
   ],
   "source": [
    "\"This is the answer to 20b) answer.\"\n",
    "(\n",
    "    prob_df.loc[(prob_df.prob_win < 0.5) & (prob_df.total_prob > 0.5)]\n",
    "    .plot.scatter('prob_win', 'prob_draw')\n",
    "    # .describe()\n",
    ")"
   ]
  },
  {
   "cell_type": "code",
   "execution_count": 42,
   "metadata": {},
   "outputs": [
    {
     "data": {
      "text/html": [
       "<div>\n",
       "<style scoped>\n",
       "    .dataframe tbody tr th:only-of-type {\n",
       "        vertical-align: middle;\n",
       "    }\n",
       "\n",
       "    .dataframe tbody tr th {\n",
       "        vertical-align: top;\n",
       "    }\n",
       "\n",
       "    .dataframe thead th {\n",
       "        text-align: right;\n",
       "    }\n",
       "</style>\n",
       "<table border=\"1\" class=\"dataframe\">\n",
       "  <thead>\n",
       "    <tr style=\"text-align: right;\">\n",
       "      <th></th>\n",
       "      <th>prob_win</th>\n",
       "      <th>prob_draw</th>\n",
       "      <th>total_prob</th>\n",
       "    </tr>\n",
       "  </thead>\n",
       "  <tbody>\n",
       "    <tr>\n",
       "      <th>count</th>\n",
       "      <td>215.000000</td>\n",
       "      <td>215.000000</td>\n",
       "      <td>215.000000</td>\n",
       "    </tr>\n",
       "    <tr>\n",
       "      <th>mean</th>\n",
       "      <td>0.464140</td>\n",
       "      <td>0.839721</td>\n",
       "      <td>0.539515</td>\n",
       "    </tr>\n",
       "    <tr>\n",
       "      <th>std</th>\n",
       "      <td>0.021554</td>\n",
       "      <td>0.109378</td>\n",
       "      <td>0.027566</td>\n",
       "    </tr>\n",
       "    <tr>\n",
       "      <th>min</th>\n",
       "      <td>0.410000</td>\n",
       "      <td>0.560000</td>\n",
       "      <td>0.500388</td>\n",
       "    </tr>\n",
       "    <tr>\n",
       "      <th>25%</th>\n",
       "      <td>0.450000</td>\n",
       "      <td>0.760000</td>\n",
       "      <td>0.516604</td>\n",
       "    </tr>\n",
       "    <tr>\n",
       "      <th>50%</th>\n",
       "      <td>0.470000</td>\n",
       "      <td>0.860000</td>\n",
       "      <td>0.534766</td>\n",
       "    </tr>\n",
       "    <tr>\n",
       "      <th>75%</th>\n",
       "      <td>0.480000</td>\n",
       "      <td>0.930000</td>\n",
       "      <td>0.559130</td>\n",
       "    </tr>\n",
       "    <tr>\n",
       "      <th>max</th>\n",
       "      <td>0.490000</td>\n",
       "      <td>0.990000</td>\n",
       "      <td>0.609952</td>\n",
       "    </tr>\n",
       "  </tbody>\n",
       "</table>\n",
       "</div>"
      ],
      "text/plain": [
       "         prob_win   prob_draw  total_prob\n",
       "count  215.000000  215.000000  215.000000\n",
       "mean     0.464140    0.839721    0.539515\n",
       "std      0.021554    0.109378    0.027566\n",
       "min      0.410000    0.560000    0.500388\n",
       "25%      0.450000    0.760000    0.516604\n",
       "50%      0.470000    0.860000    0.534766\n",
       "75%      0.480000    0.930000    0.559130\n",
       "max      0.490000    0.990000    0.609952"
      ]
     },
     "execution_count": 42,
     "metadata": {},
     "output_type": "execute_result"
    }
   ],
   "source": [
    "\"This is the answer to 20b) answer.\"\n",
    "(\n",
    "    prob_df.loc[(prob_df.prob_win < 0.5) & (prob_df.total_prob > 0.5)]\n",
    "    # .plot.scatter('prob_win', 'prob_draw')\n",
    "    .describe()\n",
    ")"
   ]
  }
 ],
 "metadata": {
  "interpreter": {
   "hash": "05fd015fde469287f816b397886c05d451759986eacea9f691480d314851b517"
  },
  "kernelspec": {
   "display_name": "Python 3.7.1 64-bit ('base': conda)",
   "language": "python",
   "name": "python3"
  },
  "language_info": {
   "codemirror_mode": {
    "name": "ipython",
    "version": 3
   },
   "file_extension": ".py",
   "mimetype": "text/x-python",
   "name": "python",
   "nbconvert_exporter": "python",
   "pygments_lexer": "ipython3",
   "version": "3.7.1"
  },
  "orig_nbformat": 4
 },
 "nbformat": 4,
 "nbformat_minor": 2
}
